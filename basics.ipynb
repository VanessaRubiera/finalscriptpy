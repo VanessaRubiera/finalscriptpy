{
 "cells": [
  {
   "cell_type": "code",
   "execution_count": 2,
   "metadata": {},
   "outputs": [
    {
     "name": "stdout",
     "output_type": "stream",
     "text": [
      "Hola JupyterLab!\n",
      "El Kernel es el que controla el ambiente.\n"
     ]
    }
   ],
   "source": [
    "print('Hola JupyterLab!')\n",
    "print('El Kernel es el que controla el ambiente.')"
   ]
  },
  {
   "attachments": {},
   "cell_type": "markdown",
   "metadata": {},
   "source": [
    "### Ejercicio de python\n",
    "1. `ctrl + enter` Se ejecuta celda y se queda en la actual\n",
    "2. `ctrl + shift + enter` Se ejecuta celda y salta a la siguiente.\n",
    "3.  alt + shift + fecha arriba/abajo para copiar linea de codigo."
   ]
  },
  {
   "cell_type": "code",
   "execution_count": 9,
   "metadata": {},
   "outputs": [],
   "source": [
    "#Declaracion de variables en python\n",
    "#Es tipado dinamico\n",
    "\n",
    "age = 31\n",
    "name = \"Profe Python\"\n",
    "is_cool = True\n",
    "numbers = [1, 2, 3, 4, 5]\n",
    "temperature = 38.5\n",
    "tuplas = (\"Uno\", \"Dos\", \"Tres\")\n",
    "series = set([1, 2, 3, 4, 5, 6]) #Los set no repiten valores\n"
   ]
  },
  {
   "cell_type": "code",
   "execution_count": 12,
   "metadata": {},
   "outputs": [
    {
     "name": "stdout",
     "output_type": "stream",
     "text": [
      "31\n",
      "<class 'int'>\n",
      "<class 'bool'>\n",
      "<class 'type'>\n",
      "<class 'tuple'>\n",
      "<class 'set'>\n",
      "{1, 2, 3, 4, 5, 6}\n"
     ]
    }
   ],
   "source": [
    "print(age)\n",
    "print(type(age))\n",
    "print(type(is_cool))\n",
    "print(type(list))\n",
    "print(type(tuplas))\n",
    "print(type(series))\n",
    "print(series)"
   ]
  },
  {
   "attachments": {},
   "cell_type": "markdown",
   "metadata": {},
   "source": [
    "### Operadores\n",
    "1. \\+\n",
    "2. \\-\n",
    "3. \\*\n",
    "4. \\/\n",
    "5. \\//\n",
    "6. \\%"
   ]
  },
  {
   "cell_type": "code",
   "execution_count": 15,
   "metadata": {},
   "outputs": [
    {
     "name": "stdout",
     "output_type": "stream",
     "text": [
      "0\n",
      "6.25\n",
      "6\n"
     ]
    }
   ],
   "source": [
    "print(6%3)\n",
    "print(25/4) #Division con resultado decimal\n",
    "print(25//4) #Division con resultado enteros"
   ]
  },
  {
   "cell_type": "code",
   "execution_count": 14,
   "metadata": {},
   "outputs": [
    {
     "name": "stdout",
     "output_type": "stream",
     "text": [
      "Wohoooo! Wohoooo! Wohoooo! Wohoooo! Wohoooo! \n"
     ]
    }
   ],
   "source": [
    "print('Wohoooo! ' * 5)"
   ]
  },
  {
   "cell_type": "code",
   "execution_count": 16,
   "metadata": {},
   "outputs": [
    {
     "name": "stdout",
     "output_type": "stream",
     "text": [
      "Aviso por alta temperatura!\n"
     ]
    }
   ],
   "source": [
    "temperature = 40\n",
    "\n",
    "if temperature > 35:\n",
    "    print('Aviso por alta temperatura!')\n",
    "else:\n",
    "    print('Todo bien')\n"
   ]
  },
  {
   "attachments": {},
   "cell_type": "markdown",
   "metadata": {},
   "source": [
    "Bloque de codigos con :\n",
    "* Codicionales\n",
    "* Funciones\n",
    "* Ciclos"
   ]
  },
  {
   "cell_type": "code",
   "execution_count": 21,
   "metadata": {},
   "outputs": [
    {
     "name": "stdout",
     "output_type": "stream",
     "text": [
      "<class 'int'>\n",
      "Tienes 22, eres mayor de edad!\n"
     ]
    }
   ],
   "source": [
    "age = int(input('Dame tu edad: ')) #cast de int(), str(), bool()\n",
    "print(type(age))\n",
    "\n",
    "def isAdult(age):\n",
    "    if age > 18:\n",
    "        print(f'Tienes {age}, eres mayor de edad!')\n",
    "    else:\n",
    "        print('Eres menor de edad!')\n",
    "\n",
    "isAdult(age)"
   ]
  },
  {
   "attachments": {},
   "cell_type": "markdown",
   "metadata": {},
   "source": [
    "#### Guess a number please 🔢🌟\n",
    "\n",
    "1. Elegir un numero random la PC\n",
    "2. Yo ingreso un numero\n",
    "3. Si el numero es mas grande le digo que esta high\n",
    "4. Si el numero es mas chico le digo que esta low"
   ]
  },
  {
   "cell_type": "code",
   "execution_count": 29,
   "metadata": {},
   "outputs": [
    {
     "name": "stdout",
     "output_type": "stream",
     "text": [
      "Te fuiste muy abajo.\n",
      "Te fuise muy arriba.\n",
      "Te fuise muy arriba.\n",
      "Te fuise muy arriba.\n",
      "Te fuiste muy abajo.\n",
      "Te fuise muy arriba.\n",
      "Te fuise muy arriba.\n",
      "Te fuiste muy abajo.\n",
      "Felicidades!! El numero era: 37!!\n"
     ]
    }
   ],
   "source": [
    "import random as azar\n",
    "\n",
    "def guess(top):\n",
    "    random_number = azar.randint(1, top)\n",
    "    #print(f'El numero al azar es: {random_number}')\n",
    "    guess = 0\n",
    "        \n",
    "    while guess != random_number:\n",
    "        guess = int(input('Adivina el numero: '))\n",
    "        if guess > random_number:\n",
    "            print('Te fuise muy arriba.')\n",
    "        elif guess < random_number:\n",
    "            print('Te fuiste muy abajo.')\n",
    "\n",
    "    print(f'Felicidades!! El numero era: {guess}!!')\n",
    "# guess(int(input(\"Introduce el top del juego\")))\n",
    "guess(100)\n"
   ]
  },
  {
   "cell_type": "code",
   "execution_count": 30,
   "metadata": {},
   "outputs": [
    {
     "name": "stdout",
     "output_type": "stream",
     "text": [
      "<!DOCTYPE html>\n",
      "<html>\n",
      "<body>\n",
      "\n",
      "<h1>This is a Test Page</h1>\n",
      "\n",
      "</body>\n",
      "</html>\n"
     ]
    }
   ],
   "source": [
    "# Un request es una peticion\n",
    "import requests\n",
    "\n",
    "x = requests.get('https://w3schools.com/python/demopage.htm')\n",
    "\n",
    "print(x.text)"
   ]
  },
  {
   "attachments": {},
   "cell_type": "markdown",
   "metadata": {},
   "source": [
    "#### Consumir una API con python (primera parte)\n",
    "1. [JSON API](https://jsonplaceholder.typicode.com/)"
   ]
  },
  {
   "cell_type": "code",
   "execution_count": null,
   "metadata": {},
   "outputs": [],
   "source": [
    "import requests\n",
    "\n",
    "request = requests.get('https://jsonplaceholder.typicode.com/todos/1')\n",
    "\n",
    "print(request.text)"
   ]
  },
  {
   "attachments": {},
   "cell_type": "markdown",
   "metadata": {},
   "source": [
    "### Tarea:\n",
    "\n",
    "Hacer ejercicio en JupyterLab con python,  en el que nosotros digamos el numero a adivinar y la computadora lo adivine, al igual que el anterior hay que decir si esta muy alto o muy bajo, dar retroalimentacion. La compu debe ir buscando el numero de acuerdo a la retroalimentacion. 🦝\n",
    "\n",
    "Añadir la tarea aqui en este JupyterLab. 🌷"
   ]
  }
 ],
 "metadata": {
  "kernelspec": {
   "display_name": "Python 3 (ipykernel)",
   "language": "python",
   "name": "python3"
  },
  "language_info": {
   "codemirror_mode": {
    "name": "ipython",
    "version": 3
   },
   "file_extension": ".py",
   "mimetype": "text/x-python",
   "name": "python",
   "nbconvert_exporter": "python",
   "pygments_lexer": "ipython3",
   "version": "3.10.10"
  },
  "orig_nbformat": 4
 },
 "nbformat": 4,
 "nbformat_minor": 2
}
